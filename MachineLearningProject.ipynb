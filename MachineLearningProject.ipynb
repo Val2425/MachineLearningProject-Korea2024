{
  "nbformat": 4,
  "nbformat_minor": 0,
  "metadata": {
    "colab": {
      "provenance": [],
      "gpuType": "T4",
      "authorship_tag": "ABX9TyP0hVy89hMuLzhnjytrkno6",
      "include_colab_link": true
    },
    "kernelspec": {
      "name": "python3",
      "display_name": "Python 3"
    },
    "language_info": {
      "name": "python"
    },
    "accelerator": "GPU"
  },
  "cells": [
    {
      "cell_type": "markdown",
      "metadata": {
        "id": "view-in-github",
        "colab_type": "text"
      },
      "source": [
        "<a href=\"https://colab.research.google.com/github/Val2425/MachineLearningProject-Korea2024/blob/main/MachineLearningProject.ipynb\" target=\"_parent\"><img src=\"https://colab.research.google.com/assets/colab-badge.svg\" alt=\"Open In Colab\"/></a>"
      ]
    },
    {
      "cell_type": "markdown",
      "source": [
        "# **1. Introduction**\n"
      ],
      "metadata": {
        "id": "ReWUZrK0FDHj"
      }
    },
    {
      "cell_type": "markdown",
      "source": [
        "**Purpose:**\n",
        "\n",
        "This project aims to classify news articles as real or fake using machine learning on textual content alone. Through natural language processing (NLP), we seek to detect misleading information—a crucial skill in today’s digital world.\n",
        "\n",
        "-\n",
        "\n",
        "**What is the Problem?**\n",
        "\n",
        "The rapid spread of fake news, especially via social media, poses significant risks to public opinion and social trust. This project focuses on distinguishing real from fake news articles, an issue highlighted by events like the American elections, where misinformation can heavily influence public sentiment.\n",
        "\n",
        "-\n",
        "\n",
        "**Why is This Problem Important?**\n",
        "\n",
        "Detecting fake news is both a timely and complex challenge. This project is intellectually engaging as it leverages NLP for a socially relevant task while remaining manageable within a binary classification framework.\n",
        "\n",
        "-\n",
        "\n",
        "**Expected Outcomes of the Model**\n",
        "\n",
        "Our objective is to develop a model with an F1-score of at least 0.85, balancing precision and recall to effectively minimize misclassifications. This metric underscores the model’s aim to accurately identify fake news while reducing errors, aligning with the critical nature of the task."
      ],
      "metadata": {
        "id": "1qdoWsh5Gcm_"
      }
    },
    {
      "cell_type": "markdown",
      "source": [
        "# **2. Methods**"
      ],
      "metadata": {
        "id": "h9-9AV2bF2Qt"
      }
    },
    {
      "cell_type": "markdown",
      "source": [
        "## **2.1 Import dataset from Kaggle**"
      ],
      "metadata": {
        "id": "OpBTd7CgGohy"
      }
    },
    {
      "cell_type": "markdown",
      "source": [
        "We decided to use the \"Fake News Detection\" datataset ([Link to the dataset](https://www.kaggle.com/datasets/bhavikjikadara/fake-news-detection))"
      ],
      "metadata": {
        "id": "0_B3oRgrHRSY"
      }
    },
    {
      "cell_type": "markdown",
      "source": [
        "First we download our personal kaggle API key on our computer. Then we add it the the google colab files :"
      ],
      "metadata": {
        "id": "AGwjeuZPCKil"
      }
    },
    {
      "cell_type": "code",
      "source": [
        "from google.colab import files\n",
        "uploaded = files.upload()\n",
        "del uploaded"
      ],
      "metadata": {
        "colab": {
          "base_uri": "https://localhost:8080/",
          "height": 73
        },
        "id": "wrUiM_5bGdzj",
        "outputId": "4a9b50ab-b482-4633-f02b-735d45898ef1"
      },
      "execution_count": 2,
      "outputs": [
        {
          "output_type": "display_data",
          "data": {
            "text/plain": [
              "<IPython.core.display.HTML object>"
            ],
            "text/html": [
              "\n",
              "     <input type=\"file\" id=\"files-e88f0f85-d257-457f-92a3-97ac06816cc2\" name=\"files[]\" multiple disabled\n",
              "        style=\"border:none\" />\n",
              "     <output id=\"result-e88f0f85-d257-457f-92a3-97ac06816cc2\">\n",
              "      Upload widget is only available when the cell has been executed in the\n",
              "      current browser session. Please rerun this cell to enable.\n",
              "      </output>\n",
              "      <script>// Copyright 2017 Google LLC\n",
              "//\n",
              "// Licensed under the Apache License, Version 2.0 (the \"License\");\n",
              "// you may not use this file except in compliance with the License.\n",
              "// You may obtain a copy of the License at\n",
              "//\n",
              "//      http://www.apache.org/licenses/LICENSE-2.0\n",
              "//\n",
              "// Unless required by applicable law or agreed to in writing, software\n",
              "// distributed under the License is distributed on an \"AS IS\" BASIS,\n",
              "// WITHOUT WARRANTIES OR CONDITIONS OF ANY KIND, either express or implied.\n",
              "// See the License for the specific language governing permissions and\n",
              "// limitations under the License.\n",
              "\n",
              "/**\n",
              " * @fileoverview Helpers for google.colab Python module.\n",
              " */\n",
              "(function(scope) {\n",
              "function span(text, styleAttributes = {}) {\n",
              "  const element = document.createElement('span');\n",
              "  element.textContent = text;\n",
              "  for (const key of Object.keys(styleAttributes)) {\n",
              "    element.style[key] = styleAttributes[key];\n",
              "  }\n",
              "  return element;\n",
              "}\n",
              "\n",
              "// Max number of bytes which will be uploaded at a time.\n",
              "const MAX_PAYLOAD_SIZE = 100 * 1024;\n",
              "\n",
              "function _uploadFiles(inputId, outputId) {\n",
              "  const steps = uploadFilesStep(inputId, outputId);\n",
              "  const outputElement = document.getElementById(outputId);\n",
              "  // Cache steps on the outputElement to make it available for the next call\n",
              "  // to uploadFilesContinue from Python.\n",
              "  outputElement.steps = steps;\n",
              "\n",
              "  return _uploadFilesContinue(outputId);\n",
              "}\n",
              "\n",
              "// This is roughly an async generator (not supported in the browser yet),\n",
              "// where there are multiple asynchronous steps and the Python side is going\n",
              "// to poll for completion of each step.\n",
              "// This uses a Promise to block the python side on completion of each step,\n",
              "// then passes the result of the previous step as the input to the next step.\n",
              "function _uploadFilesContinue(outputId) {\n",
              "  const outputElement = document.getElementById(outputId);\n",
              "  const steps = outputElement.steps;\n",
              "\n",
              "  const next = steps.next(outputElement.lastPromiseValue);\n",
              "  return Promise.resolve(next.value.promise).then((value) => {\n",
              "    // Cache the last promise value to make it available to the next\n",
              "    // step of the generator.\n",
              "    outputElement.lastPromiseValue = value;\n",
              "    return next.value.response;\n",
              "  });\n",
              "}\n",
              "\n",
              "/**\n",
              " * Generator function which is called between each async step of the upload\n",
              " * process.\n",
              " * @param {string} inputId Element ID of the input file picker element.\n",
              " * @param {string} outputId Element ID of the output display.\n",
              " * @return {!Iterable<!Object>} Iterable of next steps.\n",
              " */\n",
              "function* uploadFilesStep(inputId, outputId) {\n",
              "  const inputElement = document.getElementById(inputId);\n",
              "  inputElement.disabled = false;\n",
              "\n",
              "  const outputElement = document.getElementById(outputId);\n",
              "  outputElement.innerHTML = '';\n",
              "\n",
              "  const pickedPromise = new Promise((resolve) => {\n",
              "    inputElement.addEventListener('change', (e) => {\n",
              "      resolve(e.target.files);\n",
              "    });\n",
              "  });\n",
              "\n",
              "  const cancel = document.createElement('button');\n",
              "  inputElement.parentElement.appendChild(cancel);\n",
              "  cancel.textContent = 'Cancel upload';\n",
              "  const cancelPromise = new Promise((resolve) => {\n",
              "    cancel.onclick = () => {\n",
              "      resolve(null);\n",
              "    };\n",
              "  });\n",
              "\n",
              "  // Wait for the user to pick the files.\n",
              "  const files = yield {\n",
              "    promise: Promise.race([pickedPromise, cancelPromise]),\n",
              "    response: {\n",
              "      action: 'starting',\n",
              "    }\n",
              "  };\n",
              "\n",
              "  cancel.remove();\n",
              "\n",
              "  // Disable the input element since further picks are not allowed.\n",
              "  inputElement.disabled = true;\n",
              "\n",
              "  if (!files) {\n",
              "    return {\n",
              "      response: {\n",
              "        action: 'complete',\n",
              "      }\n",
              "    };\n",
              "  }\n",
              "\n",
              "  for (const file of files) {\n",
              "    const li = document.createElement('li');\n",
              "    li.append(span(file.name, {fontWeight: 'bold'}));\n",
              "    li.append(span(\n",
              "        `(${file.type || 'n/a'}) - ${file.size} bytes, ` +\n",
              "        `last modified: ${\n",
              "            file.lastModifiedDate ? file.lastModifiedDate.toLocaleDateString() :\n",
              "                                    'n/a'} - `));\n",
              "    const percent = span('0% done');\n",
              "    li.appendChild(percent);\n",
              "\n",
              "    outputElement.appendChild(li);\n",
              "\n",
              "    const fileDataPromise = new Promise((resolve) => {\n",
              "      const reader = new FileReader();\n",
              "      reader.onload = (e) => {\n",
              "        resolve(e.target.result);\n",
              "      };\n",
              "      reader.readAsArrayBuffer(file);\n",
              "    });\n",
              "    // Wait for the data to be ready.\n",
              "    let fileData = yield {\n",
              "      promise: fileDataPromise,\n",
              "      response: {\n",
              "        action: 'continue',\n",
              "      }\n",
              "    };\n",
              "\n",
              "    // Use a chunked sending to avoid message size limits. See b/62115660.\n",
              "    let position = 0;\n",
              "    do {\n",
              "      const length = Math.min(fileData.byteLength - position, MAX_PAYLOAD_SIZE);\n",
              "      const chunk = new Uint8Array(fileData, position, length);\n",
              "      position += length;\n",
              "\n",
              "      const base64 = btoa(String.fromCharCode.apply(null, chunk));\n",
              "      yield {\n",
              "        response: {\n",
              "          action: 'append',\n",
              "          file: file.name,\n",
              "          data: base64,\n",
              "        },\n",
              "      };\n",
              "\n",
              "      let percentDone = fileData.byteLength === 0 ?\n",
              "          100 :\n",
              "          Math.round((position / fileData.byteLength) * 100);\n",
              "      percent.textContent = `${percentDone}% done`;\n",
              "\n",
              "    } while (position < fileData.byteLength);\n",
              "  }\n",
              "\n",
              "  // All done.\n",
              "  yield {\n",
              "    response: {\n",
              "      action: 'complete',\n",
              "    }\n",
              "  };\n",
              "}\n",
              "\n",
              "scope.google = scope.google || {};\n",
              "scope.google.colab = scope.google.colab || {};\n",
              "scope.google.colab._files = {\n",
              "  _uploadFiles,\n",
              "  _uploadFilesContinue,\n",
              "};\n",
              "})(self);\n",
              "</script> "
            ]
          },
          "metadata": {}
        },
        {
          "output_type": "stream",
          "name": "stdout",
          "text": [
            "Saving kaggle.json to kaggle.json\n"
          ]
        }
      ]
    },
    {
      "cell_type": "markdown",
      "source": [
        "We then create a kaggle folder and copy kaggle.json to the folder created and give permission for the json to act"
      ],
      "metadata": {
        "id": "rXtTzFayJ7kl"
      }
    },
    {
      "cell_type": "code",
      "source": [
        "#create folder\n",
        "!mkdir ~/.kaggle\n",
        "\n",
        "#copy kaggle.json to folder\n",
        "!cp kaggle.json ~/.kaggle/\n",
        "\n",
        "#permission\n",
        "! chmod 600 ~/.kaggle/kaggle.json"
      ],
      "metadata": {
        "id": "Km6a_Cp5KEO7"
      },
      "execution_count": 3,
      "outputs": []
    },
    {
      "cell_type": "markdown",
      "source": [
        "We then paste to code given when we click on the download button for the dataset on the kaggle website"
      ],
      "metadata": {
        "id": "VybVhUGcMfEw"
      }
    },
    {
      "cell_type": "code",
      "source": [
        "import kagglehub\n",
        "\n",
        "# Download latest version\n",
        "path = kagglehub.dataset_download(\"bhavikjikadara/fake-news-detection\")\n",
        "\n",
        "print(\"Path to dataset files:\", path)"
      ],
      "metadata": {
        "colab": {
          "base_uri": "https://localhost:8080/"
        },
        "collapsed": true,
        "id": "gU3iwmkZLv4M",
        "outputId": "4d84d1f4-7363-4e2a-90b0-344d2a3762ce"
      },
      "execution_count": 4,
      "outputs": [
        {
          "output_type": "stream",
          "name": "stdout",
          "text": [
            "Downloading from https://www.kaggle.com/api/v1/datasets/download/bhavikjikadara/fake-news-detection?dataset_version_number=1...\n"
          ]
        },
        {
          "output_type": "stream",
          "name": "stderr",
          "text": [
            "100%|██████████| 41.0M/41.0M [00:00<00:00, 86.7MB/s]"
          ]
        },
        {
          "output_type": "stream",
          "name": "stdout",
          "text": [
            "Extracting files...\n"
          ]
        },
        {
          "output_type": "stream",
          "name": "stderr",
          "text": [
            "\n"
          ]
        },
        {
          "output_type": "stream",
          "name": "stdout",
          "text": [
            "Path to dataset files: /root/.cache/kagglehub/datasets/bhavikjikadara/fake-news-detection/versions/1\n"
          ]
        }
      ]
    },
    {
      "cell_type": "markdown",
      "source": [
        "Then change directory to be in the file with the two files"
      ],
      "metadata": {
        "id": "QSxyPjBhOzF9"
      }
    },
    {
      "cell_type": "code",
      "source": [
        "cd /root/.cache/kagglehub/datasets/bhavikjikadara/fake-news-detection/versions/1"
      ],
      "metadata": {
        "colab": {
          "base_uri": "https://localhost:8080/"
        },
        "id": "l1RjBBXhN8Sf",
        "outputId": "5279f425-9f2b-4da8-9459-02dfeed8f23d"
      },
      "execution_count": 5,
      "outputs": [
        {
          "output_type": "stream",
          "name": "stdout",
          "text": [
            "/root/.cache/kagglehub/datasets/bhavikjikadara/fake-news-detection/versions/1\n"
          ]
        }
      ]
    },
    {
      "cell_type": "markdown",
      "source": [
        "##**2.2 Dataset Description**"
      ],
      "metadata": {
        "id": "OKZihICL_FGY"
      }
    },
    {
      "cell_type": "markdown",
      "source": [
        "Description of the dataset"
      ],
      "metadata": {
        "id": "_rToystV_Rs2"
      }
    },
    {
      "cell_type": "markdown",
      "source": [
        "## **2.3 Data Preprocessing**"
      ],
      "metadata": {
        "id": "STLkTp2ITA4s"
      }
    },
    {
      "cell_type": "code",
      "source": [
        "import pandas as pd\n",
        "import numpy as np\n",
        "import seaborn as sns\n",
        "import matplotlib.pyplot as plt\n",
        "\n",
        "true_df = pd.read_csv('true.csv')\n",
        "fake_df = pd.read_csv('fake.csv')"
      ],
      "metadata": {
        "collapsed": true,
        "id": "oKztIo5iTlU9"
      },
      "execution_count": 6,
      "outputs": []
    },
    {
      "cell_type": "markdown",
      "source": [
        "### **2.3.1 Data correction**"
      ],
      "metadata": {
        "id": "NAC5dSaYQVlv"
      }
    },
    {
      "cell_type": "markdown",
      "source": [
        "Some dates from fake.csv contain month that are written with three letters (ex : Nov, Jan, etc.). So we correct it and convert dates to Date variables."
      ],
      "metadata": {
        "id": "JAG-Qa_zhfo4"
      }
    },
    {
      "cell_type": "code",
      "source": [
        "# Replacing abbreviation to have a uniform format for dates\n",
        "mois = {\n",
        "    'Jan ': 'January ',\n",
        "    'Feb ': 'February ',\n",
        "    'Mar ': 'March ',\n",
        "    'Apr ': 'April ',\n",
        "    'May ': 'May ',\n",
        "    'Jun ': 'June ',\n",
        "    'Jul ': 'July ',\n",
        "    'Aug ': 'August ',\n",
        "    'Sep ': 'September ',\n",
        "    'Oct ': 'October ',\n",
        "    'Nov ': 'November ',\n",
        "    'Dec ': 'December '\n",
        "}\n",
        "fake_df['date'] = fake_df['date'].replace(mois, regex=True)"
      ],
      "metadata": {
        "id": "jMtS9i62q3h6"
      },
      "execution_count": 7,
      "outputs": []
    },
    {
      "cell_type": "code",
      "source": [
        "# Converting dates to Date variables\n",
        "true_df['date'] = pd.to_datetime(true_df['date'], errors='coerce')\n",
        "fake_df['date'] = pd.to_datetime(fake_df['date'], errors='coerce')"
      ],
      "metadata": {
        "id": "s-EudKmhsHtA"
      },
      "execution_count": 8,
      "outputs": []
    },
    {
      "cell_type": "markdown",
      "source": [
        "We can see that true_df text column contains \"(Reuters) - \" that can cause overfitting. So we have to delete it."
      ],
      "metadata": {
        "id": "qR6CEPtzaFrg"
      }
    },
    {
      "cell_type": "code",
      "source": [
        "# Delete all text until \"(Reuters) - \" in true_df\n",
        "true_df['text'] = true_df['text'].str.replace(r'^.*\\(Reuters\\) - ', '', regex=True)"
      ],
      "metadata": {
        "id": "Aofj8SuDZvHK"
      },
      "execution_count": 9,
      "outputs": []
    },
    {
      "cell_type": "markdown",
      "source": [
        "After conversion and replacement of the abbreviation, we find 45 null values in fake_df. 45 is a low number so we will just erase them.\n",
        "\n",
        "We also erase duplicates"
      ],
      "metadata": {
        "id": "w47GGUAJt6nh"
      }
    },
    {
      "cell_type": "code",
      "source": [
        "# Erase null values in fake_df\n",
        "fake_df.dropna(inplace=True)\n",
        "\n",
        "# Erase duplicates\n",
        "true_df.drop_duplicates(keep='first', inplace=True)\n",
        "fake_df.drop_duplicates(keep='first', inplace=True)"
      ],
      "metadata": {
        "id": "2TfRqs8QuPNn"
      },
      "execution_count": 10,
      "outputs": []
    },
    {
      "cell_type": "markdown",
      "source": [
        "### **2.3.2 Data cleaning**"
      ],
      "metadata": {
        "id": "T5A4VV_XiYEs"
      }
    },
    {
      "cell_type": "markdown",
      "source": [
        "Before cleaning the data, we decide to add a new column that counts the percentage of uppercase letters in the title. It seems to be a very relevant feature but we will remove it if the performance of the model without it is similar."
      ],
      "metadata": {
        "id": "HF3HOME1ptWp"
      }
    },
    {
      "cell_type": "code",
      "source": [
        "# Function to calculate the percentage of uppercase letters\n",
        "def calculate_uppercase_percentage(text):\n",
        "    if len(text) == 0:  # Avoid division by zero\n",
        "        return 0\n",
        "    uppercase_count = sum(1 for char in text if char.isupper())\n",
        "    return (uppercase_count / len(text))*100\n",
        "\n",
        "# Add the column with the calculated percentages\n",
        "true_df['uppercase_percentage'] = true_df['title'].apply(calculate_uppercase_percentage)\n",
        "fake_df['uppercase_percentage'] = fake_df['title'].apply(calculate_uppercase_percentage)"
      ],
      "metadata": {
        "id": "UsCaSwpUwmqg"
      },
      "execution_count": 11,
      "outputs": []
    },
    {
      "cell_type": "markdown",
      "source": [
        "For simplicity of the model and because we will tokenize word by word, we will choose to remove all the punctuation and the special characters."
      ],
      "metadata": {
        "id": "2Tve8JdNQnr8"
      }
    },
    {
      "cell_type": "code",
      "source": [
        "import re\n",
        "\n",
        "# Remove special characters\n",
        "true_df['title'] = true_df['title'].str.replace(r'[^a-zA-Z0-9\\s]', '', regex=True)\n",
        "true_df['text'] = true_df['text'].str.replace(r'[^a-zA-Z0-9\\s]', '', regex=True)\n",
        "\n",
        "fake_df['title'] = fake_df['title'].str.replace(r'[^a-zA-Z0-9\\s]', '', regex=True)\n",
        "fake_df['text'] = fake_df['text'].str.replace(r'[^a-zA-Z0-9\\s]', '', regex=True)"
      ],
      "metadata": {
        "id": "AixCfru8psa2"
      },
      "execution_count": 12,
      "outputs": []
    },
    {
      "cell_type": "markdown",
      "source": [
        "We then remove the uppercase letters and extra spaces"
      ],
      "metadata": {
        "id": "viDGxkohReG8"
      }
    },
    {
      "cell_type": "code",
      "source": [
        "# Convert all to lowercase\n",
        "true_df['title'] = true_df['title'].str.lower()\n",
        "true_df['text'] = true_df['text'].str.lower()\n",
        "fake_df['title'] = fake_df['title'].str.lower()\n",
        "fake_df['text'] = fake_df['text'].str.lower()\n",
        "\n",
        "# Remove extra spaces\n",
        "true_df['title'] = true_df['title'].str.strip()\n",
        "true_df['text'] = true_df['text'].str.strip()\n",
        "fake_df['title'] = fake_df['title'].str.strip()\n",
        "fake_df['text'] = fake_df['text'].str.strip()"
      ],
      "metadata": {
        "id": "yFgWLYEDRw9w"
      },
      "execution_count": 13,
      "outputs": []
    },
    {
      "cell_type": "markdown",
      "source": [
        "###**2.3.3 The subject column**"
      ],
      "metadata": {
        "id": "E33V4bKUdVnR"
      }
    },
    {
      "cell_type": "markdown",
      "source": [
        "The subject column is problematic because the true and fake news have different categories."
      ],
      "metadata": {
        "id": "My7Ee_5fdhEK"
      }
    },
    {
      "cell_type": "code",
      "source": [
        "# List all unique subjects\n",
        "print(true_df['subject'].unique())\n",
        "print()\n",
        "print(fake_df['subject'].unique())"
      ],
      "metadata": {
        "colab": {
          "base_uri": "https://localhost:8080/"
        },
        "id": "bRTL5hc8VIMk",
        "outputId": "7fcf3e33-a7cb-4b33-9b4c-eef9234286b1"
      },
      "execution_count": 14,
      "outputs": [
        {
          "output_type": "stream",
          "name": "stdout",
          "text": [
            "['politicsNews' 'worldnews']\n",
            "\n",
            "['News' 'politics' 'Government News' 'left-news' 'US_News' 'Middle-east']\n"
          ]
        }
      ]
    },
    {
      "cell_type": "code",
      "source": [
        "true_df['label'] = 1  # 1 for true news\n",
        "fake_df['label'] = 0  # 0 for fake news"
      ],
      "metadata": {
        "id": "XawNhogycrvm"
      },
      "execution_count": 15,
      "outputs": []
    },
    {
      "cell_type": "markdown",
      "source": [
        "We can try to normalize the subject"
      ],
      "metadata": {
        "id": "bGWoTbEFd90o"
      }
    },
    {
      "cell_type": "code",
      "source": [
        "subject_mapping = {\n",
        "    'News': 'General News',\n",
        "    'US_News': 'General News',\n",
        "    'worldnews': 'General News',\n",
        "    'politics': 'Politics',\n",
        "    'politicsNews': 'Politics',\n",
        "    'left-news': 'Politics',\n",
        "    'Middle-east': 'General News',\n",
        "    'Government News': 'Politics'\n",
        "}\n",
        "fake_df['subject'] = fake_df['subject'].map(subject_mapping)\n",
        "true_df['subject'] = true_df['subject'].map(subject_mapping)\n"
      ],
      "metadata": {
        "id": "k_gFW6mhdFoI"
      },
      "execution_count": 16,
      "outputs": []
    },
    {
      "cell_type": "code",
      "source": [
        "combined_df = pd.concat([true_df, fake_df], ignore_index=True)"
      ],
      "metadata": {
        "id": "bg7JJiRCcuNk"
      },
      "execution_count": 17,
      "outputs": []
    },
    {
      "cell_type": "code",
      "source": [
        "import seaborn as sns\n",
        "import matplotlib.pyplot as plt\n",
        "\n",
        "# Plot subject distribution\n",
        "sns.countplot(x='subject', hue='label', data=combined_df)\n",
        "plt.xticks(rotation=45)\n",
        "plt.title(\"Distribution of Subjects by Label\")\n",
        "plt.show()\n"
      ],
      "metadata": {
        "colab": {
          "base_uri": "https://localhost:8080/",
          "height": 0
        },
        "id": "3DBtiAjyczZk",
        "outputId": "8968953a-c6fb-4739-8517-d74db0ebae88"
      },
      "execution_count": 18,
      "outputs": [
        {
          "output_type": "display_data",
          "data": {
            "text/plain": [
              "<Figure size 640x480 with 1 Axes>"
            ],
            "image/png": "[encoded data removed]"
          },
          "metadata": {}
        }
      ]
    },
    {
      "cell_type": "markdown",
      "source": [
        "As we can see, there is no real difference between the subjects for true or fake news. We can conclude that subject is not a meaningful predictor for our task. So to avoid noise, we will delete the 'subject' column and delete combined_df"
      ],
      "metadata": {
        "id": "Np7xti4-e_2m"
      }
    },
    {
      "cell_type": "code",
      "source": [
        "fake_df = fake_df.drop(columns=['subject'])\n",
        "true_df = true_df.drop(columns=['subject'])\n",
        "fake_df = fake_df.drop(columns=['label'])\n",
        "true_df = true_df.drop(columns=['label'])\n",
        "del combined_df"
      ],
      "metadata": {
        "id": "v_DpkhxAgOw5"
      },
      "execution_count": 19,
      "outputs": []
    },
    {
      "cell_type": "markdown",
      "source": [
        "### **2.3.4 Fusing datasets**"
      ],
      "metadata": {
        "id": "uB4ONXAbikrM"
      }
    },
    {
      "cell_type": "markdown",
      "source": [
        "We add labels before combining to two datasets into one."
      ],
      "metadata": {
        "id": "GqPnf7selIwB"
      }
    },
    {
      "cell_type": "code",
      "source": [
        "true_df['label'] = 1  # 1 for true news\n",
        "fake_df['label'] = 0  # 0 for fake news\n",
        "\n",
        "df = pd.concat([true_df, fake_df], ignore_index=True)\n",
        "print(df.head())\n",
        "df['text'] = df['text'].str.split().str.join(' ')"
      ],
      "metadata": {
        "colab": {
          "base_uri": "https://localhost:8080/"
        },
        "id": "P-PsSTdNkvx1",
        "outputId": "334d7757-d403-4a18-8662-83b1a8b7cdf2"
      },
      "execution_count": 20,
      "outputs": [
        {
          "output_type": "stream",
          "name": "stdout",
          "text": [
            "                                               title  \\\n",
            "0  as us budget fight looms republicans flip thei...   \n",
            "1  us military to accept transgender recruits on ...   \n",
            "2  senior us republican senator let mr mueller do...   \n",
            "3  fbi russia probe helped by australian diplomat...   \n",
            "4  trump wants postal service to charge much more...   \n",
            "\n",
            "                                                text       date  \\\n",
            "0  the head of a conservative republican faction ... 2017-12-31   \n",
            "1  transgender people will be allowed for the fir... 2017-12-29   \n",
            "2  the special counsel investigation of links bet... 2017-12-31   \n",
            "3  trump campaign adviser george papadopoulos tol... 2017-12-30   \n",
            "4  president donald trump called on the us postal... 2017-12-29   \n",
            "\n",
            "   uppercase_percentage  label  \n",
            "0              6.250000      1  \n",
            "1              6.250000      1  \n",
            "2             11.666667      1  \n",
            "3             13.559322      1  \n",
            "4              5.797101      1  \n"
          ]
        }
      ]
    },
    {
      "cell_type": "markdown",
      "source": [
        "## **2.4 Exploratory Data Analysis (EDA)**"
      ],
      "metadata": {
        "id": "6j8IU0Gj-fuE"
      }
    },
    {
      "cell_type": "code",
      "source": [
        "# Example: Distribution of text lengths\n",
        "df['text_length'] = df['text'].apply(len)\n",
        "sns.histplot(data=df, x='text_length', hue='label', kde=True)\n",
        "plt.title('Distribution of Text Length by Label')\n",
        "plt.show()"
      ],
      "metadata": {
        "colab": {
          "base_uri": "https://localhost:8080/",
          "height": 472
        },
        "id": "jW01UkgGug1t",
        "outputId": "afb08d3e-450e-451e-aa9a-5d8610a71945"
      },
      "execution_count": 21,
      "outputs": [
        {
          "output_type": "display_data",
          "data": {
            "text/plain": [
              "<Figure size 640x480 with 1 Axes>"
            ],
            "image/png": "[encoded data removed]"
          },
          "metadata": {}
        }
      ]
    },
    {
      "cell_type": "code",
      "source": [
        "# Visualize a sample of the dataset\n",
        "df.sample(10)"
      ],
      "metadata": {
        "colab": {
          "base_uri": "https://localhost:8080/",
          "height": 363
        },
        "collapsed": true,
        "id": "NWs4rMHbXrNs",
        "outputId": "6868823b-9a5f-4bb3-f48f-139e4c4b8340"
      },
      "execution_count": 22,
      "outputs": [
        {
          "output_type": "execute_result",
          "data": {
            "text/plain": [
              "                                                   title  \\\n",
              "30501  just in why anchor mattlauer was just fired af...   \n",
              "42697  breaking it turns out bowe and bo have somethi...   \n",
              "20542  pakistans anticorruption agency starts crimina...   \n",
              "8925   milestones in legal fight over texas abortion law   \n",
              "40815  wow liberal election fraud expert trump landsl...   \n",
              "42372  heres the list of people we elected who just m...   \n",
              "6685   trumps tough trade talk makes us firms fear ch...   \n",
              "26336  noam chomsky begs americans to elect clinton a...   \n",
              "4043   us says strategy on north korea centers on san...   \n",
              "43215  tillerson to north korea we are not your enemy...   \n",
              "\n",
              "                                                    text       date  \\\n",
              "30501  nbc was in cover your ass mode with their long... 2017-11-29   \n",
              "42697  besides being a muslim terrorist sympathizer i... 2015-07-24   \n",
              "20542  pakistan s anticorruption agency will open a c... 2017-09-07   \n",
              "8925   the us supreme court is set to rule on monday ... 2016-06-26   \n",
              "40815                                                    2016-11-10   \n",
              "42372  if you re like us you either made a donation k... 2015-12-19   \n",
              "6685   us presidentelect donald trumps challenges to ... 2016-12-12   \n",
              "26336  worldrenowned political theorist and activist ... 2016-08-09   \n",
              "4043   us president donald trumps strategy on north k... 2017-04-26   \n",
              "43215  21st century wire says while everyone is busy ... 2017-08-02   \n",
              "\n",
              "       uppercase_percentage  label  text_length  \n",
              "30501             26.315789      0         1832  \n",
              "42697             71.621622      0         1806  \n",
              "20542              3.260870      1         1459  \n",
              "8925               4.081633      1         3483  \n",
              "40815             34.782609      0            0  \n",
              "42372             25.833333      0         1651  \n",
              "6685               6.250000      1         4548  \n",
              "26336             25.000000      0         2520  \n",
              "4043               5.797101      1         1256  \n",
              "43215             17.045455      0         3463  "
            ],
            "text/html": [
              "\n",
              "  <div id=\"df-70b5ca02-6538-42b3-9ca3-91d5f6008b3c\" class=\"colab-df-container\">\n",
              "    <div>\n",
              "<style scoped>\n",
              "    .dataframe tbody tr th:only-of-type {\n",
              "        vertical-align: middle;\n",
              "    }\n",
              "\n",
              "    .dataframe tbody tr th {\n",
              "        vertical-align: top;\n",
              "    }\n",
              "\n",
              "    .dataframe thead th {\n",
              "        text-align: right;\n",
              "    }\n",
              "</style>\n",
              "<table border=\"1\" class=\"dataframe\">\n",
              "  <thead>\n",
              "    <tr style=\"text-align: right;\">\n",
              "      <th></th>\n",
              "      <th>title</th>\n",
              "      <th>text</th>\n",
              "      <th>date</th>\n",
              "      <th>uppercase_percentage</th>\n",
              "      <th>label</th>\n",
              "      <th>text_length</th>\n",
              "    </tr>\n",
              "  </thead>\n",
              "  <tbody>\n",
              "    <tr>\n",
              "      <th>30501</th>\n",
              "      <td>just in why anchor mattlauer was just fired af...</td>\n",
              "      <td>nbc was in cover your ass mode with their long...</td>\n",
              "      <td>2017-11-29</td>\n",
              "      <td>26.315789</td>\n",
              "      <td>0</td>\n",
              "      <td>1832</td>\n",
              "    </tr>\n",
              "    <tr>\n",
              "      <th>42697</th>\n",
              "      <td>breaking it turns out bowe and bo have somethi...</td>\n",
              "      <td>besides being a muslim terrorist sympathizer i...</td>\n",
              "      <td>2015-07-24</td>\n",
              "      <td>71.621622</td>\n",
              "      <td>0</td>\n",
              "      <td>1806</td>\n",
              "    </tr>\n",
              "    <tr>\n",
              "      <th>20542</th>\n",
              "      <td>pakistans anticorruption agency starts crimina...</td>\n",
              "      <td>pakistan s anticorruption agency will open a c...</td>\n",
              "      <td>2017-09-07</td>\n",
              "      <td>3.260870</td>\n",
              "      <td>1</td>\n",
              "      <td>1459</td>\n",
              "    </tr>\n",
              "    <tr>\n",
              "      <th>8925</th>\n",
              "      <td>milestones in legal fight over texas abortion law</td>\n",
              "      <td>the us supreme court is set to rule on monday ...</td>\n",
              "      <td>2016-06-26</td>\n",
              "      <td>4.081633</td>\n",
              "      <td>1</td>\n",
              "      <td>3483</td>\n",
              "    </tr>\n",
              "    <tr>\n",
              "      <th>40815</th>\n",
              "      <td>wow liberal election fraud expert trump landsl...</td>\n",
              "      <td></td>\n",
              "      <td>2016-11-10</td>\n",
              "      <td>34.782609</td>\n",
              "      <td>0</td>\n",
              "      <td>0</td>\n",
              "    </tr>\n",
              "    <tr>\n",
              "      <th>42372</th>\n",
              "      <td>heres the list of people we elected who just m...</td>\n",
              "      <td>if you re like us you either made a donation k...</td>\n",
              "      <td>2015-12-19</td>\n",
              "      <td>25.833333</td>\n",
              "      <td>0</td>\n",
              "      <td>1651</td>\n",
              "    </tr>\n",
              "    <tr>\n",
              "      <th>6685</th>\n",
              "      <td>trumps tough trade talk makes us firms fear ch...</td>\n",
              "      <td>us presidentelect donald trumps challenges to ...</td>\n",
              "      <td>2016-12-12</td>\n",
              "      <td>6.250000</td>\n",
              "      <td>1</td>\n",
              "      <td>4548</td>\n",
              "    </tr>\n",
              "    <tr>\n",
              "      <th>26336</th>\n",
              "      <td>noam chomsky begs americans to elect clinton a...</td>\n",
              "      <td>worldrenowned political theorist and activist ...</td>\n",
              "      <td>2016-08-09</td>\n",
              "      <td>25.000000</td>\n",
              "      <td>0</td>\n",
              "      <td>2520</td>\n",
              "    </tr>\n",
              "    <tr>\n",
              "      <th>4043</th>\n",
              "      <td>us says strategy on north korea centers on san...</td>\n",
              "      <td>us president donald trumps strategy on north k...</td>\n",
              "      <td>2017-04-26</td>\n",
              "      <td>5.797101</td>\n",
              "      <td>1</td>\n",
              "      <td>1256</td>\n",
              "    </tr>\n",
              "    <tr>\n",
              "      <th>43215</th>\n",
              "      <td>tillerson to north korea we are not your enemy...</td>\n",
              "      <td>21st century wire says while everyone is busy ...</td>\n",
              "      <td>2017-08-02</td>\n",
              "      <td>17.045455</td>\n",
              "      <td>0</td>\n",
              "      <td>3463</td>\n",
              "    </tr>\n",
              "  </tbody>\n",
              "</table>\n",
              "</div>\n",
              "    <div class=\"colab-df-buttons\">\n",
              "\n",
              "  <div class=\"colab-df-container\">\n",
              "    <button class=\"colab-df-convert\" onclick=\"convertToInteractive('df-70b5ca02-6538-42b3-9ca3-91d5f6008b3c')\"\n",
              "            title=\"Convert this dataframe to an interactive table.\"\n",
              "            style=\"display:none;\">\n",
              "\n",
              "  <svg xmlns=\"http://www.w3.org/2000/svg\" height=\"24px\" viewBox=\"0 -960 960 960\">\n",
              "    <path d=\"M120-120v-720h720v720H120Zm60-500h600v-160H180v160Zm220 220h160v-160H400v160Zm0 220h160v-160H400v160ZM180-400h160v-160H180v160Zm440 0h160v-160H620v160ZM180-180h160v-160H180v160Zm440 0h160v-160H620v160Z\"/>\n",
              "  </svg>\n",
              "    </button>\n",
              "\n",
              "  <style>\n",
              "    .colab-df-container {\n",
              "      display:flex;\n",
              "      gap: 12px;\n",
              "    }\n",
              "\n",
              "    .colab-df-convert {\n",
              "      background-color: #E8F0FE;\n",
              "      border: none;\n",
              "      border-radius: 50%;\n",
              "      cursor: pointer;\n",
              "      display: none;\n",
              "      fill: #1967D2;\n",
              "      height: 32px;\n",
              "      padding: 0 0 0 0;\n",
              "      width: 32px;\n",
              "    }\n",
              "\n",
              "    .colab-df-convert:hover {\n",
              "      background-color: #E2EBFA;\n",
              "      box-shadow: 0px 1px 2px rgba(60, 64, 67, 0.3), 0px 1px 3px 1px rgba(60, 64, 67, 0.15);\n",
              "      fill: #174EA6;\n",
              "    }\n",
              "\n",
              "    .colab-df-buttons div {\n",
              "      margin-bottom: 4px;\n",
              "    }\n",
              "\n",
              "    [theme=dark] .colab-df-convert {\n",
              "      background-color: #3B4455;\n",
              "      fill: #D2E3FC;\n",
              "    }\n",
              "\n",
              "    [theme=dark] .colab-df-convert:hover {\n",
              "      background-color: #434B5C;\n",
              "      box-shadow: 0px 1px 3px 1px rgba(0, 0, 0, 0.15);\n",
              "      filter: drop-shadow(0px 1px 2px rgba(0, 0, 0, 0.3));\n",
              "      fill: #FFFFFF;\n",
              "    }\n",
              "  </style>\n",
              "\n",
              "    <script>\n",
              "      const buttonEl =\n",
              "        document.querySelector('#df-70b5ca02-6538-42b3-9ca3-91d5f6008b3c button.colab-df-convert');\n",
              "      buttonEl.style.display =\n",
              "        google.colab.kernel.accessAllowed ? 'block' : 'none';\n",
              "\n",
              "      async function convertToInteractive(key) {\n",
              "        const element = document.querySelector('#df-70b5ca02-6538-42b3-9ca3-91d5f6008b3c');\n",
              "        const dataTable =\n",
              "          await google.colab.kernel.invokeFunction('convertToInteractive',\n",
              "                                                    [key], {});\n",
              "        if (!dataTable) return;\n",
              "\n",
              "        const docLinkHtml = 'Like what you see? Visit the ' +\n",
              "          '<a target=\"_blank\" href=https://colab.research.google.com/notebooks/data_table.ipynb>data table notebook</a>'\n",
              "          + ' to learn more about interactive tables.';\n",
              "        element.innerHTML = '';\n",
              "        dataTable['output_type'] = 'display_data';\n",
              "        await google.colab.output.renderOutput(dataTable, element);\n",
              "        const docLink = document.createElement('div');\n",
              "        docLink.innerHTML = docLinkHtml;\n",
              "        element.appendChild(docLink);\n",
              "      }\n",
              "    </script>\n",
              "  </div>\n",
              "\n",
              "\n",
              "<div id=\"df-dda61464-47b7-473f-a046-76362f594fa5\">\n",
              "  <button class=\"colab-df-quickchart\" onclick=\"quickchart('df-dda61464-47b7-473f-a046-76362f594fa5')\"\n",
              "            title=\"Suggest charts\"\n",
              "            style=\"display:none;\">\n",
              "\n",
              "<svg xmlns=\"http://www.w3.org/2000/svg\" height=\"24px\"viewBox=\"0 0 24 24\"\n",
              "     width=\"24px\">\n",
              "    <g>\n",
              "        <path d=\"M19 3H5c-1.1 0-2 .9-2 2v14c0 1.1.9 2 2 2h14c1.1 0 2-.9 2-2V5c0-1.1-.9-2-2-2zM9 17H7v-7h2v7zm4 0h-2V7h2v10zm4 0h-2v-4h2v4z\"/>\n",
              "    </g>\n",
              "</svg>\n",
              "  </button>\n",
              "\n",
              "<style>\n",
              "  .colab-df-quickchart {\n",
              "      --bg-color: #E8F0FE;\n",
              "      --fill-color: #1967D2;\n",
              "      --hover-bg-color: #E2EBFA;\n",
              "      --hover-fill-color: #174EA6;\n",
              "      --disabled-fill-color: #AAA;\n",
              "      --disabled-bg-color: #DDD;\n",
              "  }\n",
              "\n",
              "  [theme=dark] .colab-df-quickchart {\n",
              "      --bg-color: #3B4455;\n",
              "      --fill-color: #D2E3FC;\n",
              "      --hover-bg-color: #434B5C;\n",
              "      --hover-fill-color: #FFFFFF;\n",
              "      --disabled-bg-color: #3B4455;\n",
              "      --disabled-fill-color: #666;\n",
              "  }\n",
              "\n",
              "  .colab-df-quickchart {\n",
              "    background-color: var(--bg-color);\n",
              "    border: none;\n",
              "    border-radius: 50%;\n",
              "    cursor: pointer;\n",
              "    display: none;\n",
              "    fill: var(--fill-color);\n",
              "    height: 32px;\n",
              "    padding: 0;\n",
              "    width: 32px;\n",
              "  }\n",
              "\n",
              "  .colab-df-quickchart:hover {\n",
              "    background-color: var(--hover-bg-color);\n",
              "    box-shadow: 0 1px 2px rgba(60, 64, 67, 0.3), 0 1px 3px 1px rgba(60, 64, 67, 0.15);\n",
              "    fill: var(--button-hover-fill-color);\n",
              "  }\n",
              "\n",
              "  .colab-df-quickchart-complete:disabled,\n",
              "  .colab-df-quickchart-complete:disabled:hover {\n",
              "    background-color: var(--disabled-bg-color);\n",
              "    fill: var(--disabled-fill-color);\n",
              "    box-shadow: none;\n",
              "  }\n",
              "\n",
              "  .colab-df-spinner {\n",
              "    border: 2px solid var(--fill-color);\n",
              "    border-color: transparent;\n",
              "    border-bottom-color: var(--fill-color);\n",
              "    animation:\n",
              "      spin 1s steps(1) infinite;\n",
              "  }\n",
              "\n",
              "  @keyframes spin {\n",
              "    0% {\n",
              "      border-color: transparent;\n",
              "      border-bottom-color: var(--fill-color);\n",
              "      border-left-color: var(--fill-color);\n",
              "    }\n",
              "    20% {\n",
              "      border-color: transparent;\n",
              "      border-left-color: var(--fill-color);\n",
              "      border-top-color: var(--fill-color);\n",
              "    }\n",
              "    30% {\n",
              "      border-color: transparent;\n",
              "      border-left-color: var(--fill-color);\n",
              "      border-top-color: var(--fill-color);\n",
              "      border-right-color: var(--fill-color);\n",
              "    }\n",
              "    40% {\n",
              "      border-color: transparent;\n",
              "      border-right-color: var(--fill-color);\n",
              "      border-top-color: var(--fill-color);\n",
              "    }\n",
              "    60% {\n",
              "      border-color: transparent;\n",
              "      border-right-color: var(--fill-color);\n",
              "    }\n",
              "    80% {\n",
              "      border-color: transparent;\n",
              "      border-right-color: var(--fill-color);\n",
              "      border-bottom-color: var(--fill-color);\n",
              "    }\n",
              "    90% {\n",
              "      border-color: transparent;\n",
              "      border-bottom-color: var(--fill-color);\n",
              "    }\n",
              "  }\n",
              "</style>\n",
              "\n",
              "  <script>\n",
              "    async function quickchart(key) {\n",
              "      const quickchartButtonEl =\n",
              "        document.querySelector('#' + key + ' button');\n",
              "      quickchartButtonEl.disabled = true;  // To prevent multiple clicks.\n",
              "      quickchartButtonEl.classList.add('colab-df-spinner');\n",
              "      try {\n",
              "        const charts = await google.colab.kernel.invokeFunction(\n",
              "            'suggestCharts', [key], {});\n",
              "      } catch (error) {\n",
              "        console.error('Error during call to suggestCharts:', error);\n",
              "      }\n",
              "      quickchartButtonEl.classList.remove('colab-df-spinner');\n",
              "      quickchartButtonEl.classList.add('colab-df-quickchart-complete');\n",
              "    }\n",
              "    (() => {\n",
              "      let quickchartButtonEl =\n",
              "        document.querySelector('#df-dda61464-47b7-473f-a046-76362f594fa5 button');\n",
              "      quickchartButtonEl.style.display =\n",
              "        google.colab.kernel.accessAllowed ? 'block' : 'none';\n",
              "    })();\n",
              "  </script>\n",
              "</div>\n",
              "\n",
              "    </div>\n",
              "  </div>\n"
            ],
            "application/vnd.google.colaboratory.intrinsic+json": {
              "type": "dataframe",
              "summary": "{\n  \"name\": \"df\",\n  \"rows\": 10,\n  \"fields\": [\n    {\n      \"column\": \"title\",\n      \"properties\": {\n        \"dtype\": \"string\",\n        \"num_unique_values\": 10,\n        \"samples\": [\n          \"us says strategy on north korea centers on sanctions open to talks\",\n          \"breaking it turns out bowe and bo have something else in common video\",\n          \"heres the list of people we elected who just made our nation less safe while adding 11 trillion to the taxpayers tab\"\n        ],\n        \"semantic_type\": \"\",\n        \"description\": \"\"\n      }\n    },\n    {\n      \"column\": \"text\",\n      \"properties\": {\n        \"dtype\": \"string\",\n        \"num_unique_values\": 10,\n        \"samples\": [\n          \"us president donald trumps strategy on north korea aims to pressure pyongyang to dismantle its nuclear and ballistic missile programs by tightening sanctions and washington is open to negotiations the trump administration said on wednesday the us stance which appeared to signal a willingness to exhaust nonmilitary options was put forward in a statement following an unusual white househosted briefing for the entire senate it described north korea as an urgent national security threat and top foreign policy priority the united states seeks stability and the peaceful denuclearization of the korean peninsula we remain open to negotiations towards that goal it said in a joint statement by secretary of state rex tillerson defense secretary jim mattis and director of national intelligence dan coats however we remain prepared to defend ourselves and our allies although the statement emphasized diplomacy democratic senator christopher coons told reporters after the white house briefing that military options were discussed it was a sobering briefing in which it was clear just how much thought and planning was going into preparing military options if called for and a diplomatic strategy that strikes me as cleareyed and well proportioned coons said\",\n          \"besides being a muslim terrorist sympathizer it appears bowe and bo have something else in common why is this guy who is still considered active duty free to roam around while he awaits his trial has everyone forgotten the lives of 6 brave army members were lost searching for this idiot additionally gave 5 terrorists back in a deal to get this traitor back on us soil and we release him into the general public who s got time for remorse it s party time for bowehere are the 6 soldiers that were killed looking for bergdahl here are the 5 taliban terrorists we released in order to obtain bergdahlbowe bergdahl was detained as part of the raid but was not arrested he was subsequently delivered to the army in oakland by sheriff s personnelarmy deserter bowe bergdahl was caught this week at a northern california pot farm during a raid last weekend the politico reportedhttpsyoutube1durqb1khkearmy sgt bowe bergdahl was seen at a northern california marijuana farm during a raid last weekend where the former captive of the talibanlinked haqqani network in afghanistan was reportedly visiting friendsaccording to the initial report from the anderson valley advertiser bergdahl was an unexpected visitor at the mendocino county farm which is approximately 120 miles up the coast from san francisco he had no connection to the dope grow according to that reportauthorities from the county sheriff s department confirmed to nbc bay area that bergdahl did not face any charges and was not arrested during the raidthe initial report from the advertiser said that military officials were notified quoting county sheriff tom allman who said that bergdahl was not involved in the growing of marijuana and was above politeness showing his military id as others in the house were being arrested via gateway pundit\",\n          \"if you re like us you either made a donation knocked on doors or called voters on behalf of a republican candidate in the 2014 election maybe you did all three things is the candidate you worked so hard to get elected or reelected on this list we were very disappointed to see the name of the candidate we supported for us rep in mi on the list of yea s we also know we won t be working so hard to help him with his reelection bid next time around only one representative in the entire state of mi justin amash rmi actually stood up against the establishment and said no we re not gonna take it anymore please take the time to look through this list and contact your us representative or us senator let them know the next time they look to you for support of their reelection that you don t help people who sell out our nationit s worth noting that marco rubio didn t even bother to vote on one of the most critical spending and national security bills in our nation s history if he can t be bothered to vote on such a critical bill how can he be bothered with representing our nation in the most powerful position in our government conservative presidential candidate senator ted cruz rtx voted against this insane bill he criticized the legislation in a statement after the vote saying it effectively forfeits our massive republican victories of 2014 and cements obama s priorities for nearly the full remainder of his term for a quick look at how the passage of this bill will harm the security of americans while adding a huge debt to our children and grandchildren s future click herehere is how our us senators voted on the omnibus spending bill\"\n        ],\n        \"semantic_type\": \"\",\n        \"description\": \"\"\n      }\n    },\n    {\n      \"column\": \"date\",\n      \"properties\": {\n        \"dtype\": \"date\",\n        \"min\": \"2015-07-24 00:00:00\",\n        \"max\": \"2017-11-29 00:00:00\",\n        \"num_unique_values\": 10,\n        \"samples\": [\n          \"2017-04-26 00:00:00\",\n          \"2015-07-24 00:00:00\",\n          \"2015-12-19 00:00:00\"\n        ],\n        \"semantic_type\": \"\",\n        \"description\": \"\"\n      }\n    },\n    {\n      \"column\": \"uppercase_percentage\",\n      \"properties\": {\n        \"dtype\": \"number\",\n        \"std\": 20.750870737177156,\n        \"min\": 3.260869565217391,\n        \"max\": 71.62162162162163,\n        \"num_unique_values\": 10,\n        \"samples\": [\n          5.797101449275362,\n          71.62162162162163,\n          25.833333333333336\n        ],\n        \"semantic_type\": \"\",\n        \"description\": \"\"\n      }\n    },\n    {\n      \"column\": \"label\",\n      \"properties\": {\n        \"dtype\": \"number\",\n        \"std\": 0,\n        \"min\": 0,\n        \"max\": 1,\n        \"num_unique_values\": 2,\n        \"samples\": [\n          1,\n          0\n        ],\n        \"semantic_type\": \"\",\n        \"description\": \"\"\n      }\n    },\n    {\n      \"column\": \"text_length\",\n      \"properties\": {\n        \"dtype\": \"number\",\n        \"std\": 1321,\n        \"min\": 0,\n        \"max\": 4548,\n        \"num_unique_values\": 10,\n        \"samples\": [\n          1256,\n          1806\n        ],\n        \"semantic_type\": \"\",\n        \"description\": \"\"\n      }\n    }\n  ]\n}"
            }
          },
          "metadata": {},
          "execution_count": 22
        }
      ]
    },
    {
      "cell_type": "code",
      "source": [
        "# Statistics\n",
        "print(true_df.describe())\n",
        "print()\n",
        "print(fake_df.describe())"
      ],
      "metadata": {
        "colab": {
          "base_uri": "https://localhost:8080/"
        },
        "id": "DbPSvsfMhIkr",
        "outputId": "929ed395-d2bf-46f8-bc59-39f8bd9e3c5a",
        "collapsed": true
      },
      "execution_count": 23,
      "outputs": [
        {
          "output_type": "stream",
          "name": "stdout",
          "text": [
            "                                date  uppercase_percentage    label\n",
            "count                          21211          21211.000000  21211.0\n",
            "mean   2017-06-02 21:00:01.527509248              5.529878      1.0\n",
            "min              2016-01-13 00:00:00              1.052632      1.0\n",
            "25%              2017-01-27 00:00:00              3.448276      1.0\n",
            "50%              2017-09-12 00:00:00              5.084746      1.0\n",
            "75%              2017-11-02 00:00:00              7.017544      1.0\n",
            "max              2017-12-31 00:00:00             26.415094      1.0\n",
            "std                              NaN              2.771910      0.0\n",
            "\n",
            "                                date  uppercase_percentage    label\n",
            "count                          23433          23433.000000  23433.0\n",
            "mean   2016-10-07 05:42:54.062220032             29.513559      0.0\n",
            "min              2015-03-31 00:00:00              3.370787      0.0\n",
            "25%              2016-04-06 00:00:00             19.827586      0.0\n",
            "50%              2016-10-14 00:00:00             26.562500      0.0\n",
            "75%              2017-04-14 00:00:00             35.172414      0.0\n",
            "max              2017-12-31 00:00:00             89.583333      0.0\n",
            "std                              NaN             14.044285      0.0\n"
          ]
        }
      ]
    },
    {
      "cell_type": "markdown",
      "source": [
        "The number of true and false articles is pretty even (47,7% - 52,3%), it's good for a binary classification."
      ],
      "metadata": {
        "id": "PUchOM_tG39V"
      }
    },
    {
      "cell_type": "code",
      "source": [
        "# Analyse the length of\n",
        "print(true_df['title'].apply(len).describe())\n",
        "print()\n",
        "print(fake_df['title'].apply(len).describe())\n",
        "print()\n",
        "print()\n",
        "print(true_df['text'].apply(len).describe())\n",
        "print()\n",
        "print(fake_df['text'].apply(len).describe())"
      ],
      "metadata": {
        "colab": {
          "base_uri": "https://localhost:8080/"
        },
        "id": "nZEdg8qRLlot",
        "outputId": "07c57d22-dbe4-4aba-8524-903ad9b678b5"
      },
      "execution_count": 24,
      "outputs": [
        {
          "output_type": "stream",
          "name": "stdout",
          "text": [
            "count    21211.000000\n",
            "mean        63.066098\n",
            "std          8.923350\n",
            "min         26.000000\n",
            "25%         57.000000\n",
            "50%         63.000000\n",
            "75%         68.000000\n",
            "max        129.000000\n",
            "Name: title, dtype: float64\n",
            "\n",
            "count    23433.000000\n",
            "mean        90.417744\n",
            "std         26.234171\n",
            "min         14.000000\n",
            "25%         74.000000\n",
            "50%         86.000000\n",
            "75%        101.000000\n",
            "max        270.000000\n",
            "Name: title, dtype: float64\n",
            "\n",
            "\n",
            "count    21211.000000\n",
            "mean      2298.412852\n",
            "std       1640.855036\n",
            "min          0.000000\n",
            "25%        863.500000\n",
            "50%       2142.000000\n",
            "75%       3126.000000\n",
            "max      28997.000000\n",
            "Name: text, dtype: float64\n",
            "\n",
            "count    23433.000000\n",
            "mean      2489.490462\n",
            "std       2475.971621\n",
            "min          0.000000\n",
            "25%       1400.000000\n",
            "50%       2116.000000\n",
            "75%       2959.000000\n",
            "max      50790.000000\n",
            "Name: text, dtype: float64\n"
          ]
        }
      ]
    },
    {
      "cell_type": "code",
      "source": [
        "empty_text_df = df[df['text'].str.len() == 0]\n",
        "empty_text_count = df[df['text'].str.len() == 0].shape[0]\n",
        "print(empty_text_count)"
      ],
      "metadata": {
        "id": "0POtoENHMA0c",
        "colab": {
          "base_uri": "https://localhost:8080/"
        },
        "outputId": "87daff49-35a3-4b17-9794-1d4ae9b0fb57"
      },
      "execution_count": 25,
      "outputs": [
        {
          "output_type": "stream",
          "name": "stdout",
          "text": [
            "631\n"
          ]
        }
      ]
    }
  ]
}