{
  "nbformat": 4,
  "nbformat_minor": 0,
  "metadata": {
    "colab": {
      "provenance": [],
      "gpuType": "T4",
      "authorship_tag": "ABX9TyPHgtm2qs0FCT6/JmDl8BLy",
      "include_colab_link": true
    },
    "kernelspec": {
      "name": "python3",
      "display_name": "Python 3"
    },
    "language_info": {
      "name": "python"
    },
    "accelerator": "GPU"
  },
  "cells": [
    {
      "cell_type": "markdown",
      "metadata": {
        "id": "view-in-github",
        "colab_type": "text"
      },
      "source": [
        "<a href=\"https://colab.research.google.com/github/Val2425/MachineLearningProject-Korea2024/blob/main/MachineLearningProject.ipynb\" target=\"_parent\"><img src=\"https://colab.research.google.com/assets/colab-badge.svg\" alt=\"Open In Colab\"/></a>"
      ]
    },
    {
      "cell_type": "markdown",
      "source": [
        "# **1. Introduction**\n"
      ],
      "metadata": {
        "id": "ReWUZrK0FDHj"
      }
    },
    {
      "cell_type": "markdown",
      "source": [
        "**Purpose:**\n",
        "\n",
        "This project aims to classify news articles as real or fake using machine learning on textual content alone. Through natural language processing (NLP), we seek to detect misleading information—a crucial skill in today’s digital world.\n",
        "\n",
        "-\n",
        "\n",
        "**What is the Problem?**\n",
        "\n",
        "The rapid spread of fake news, especially via social media, poses significant risks to public opinion and social trust. This project focuses on distinguishing real from fake news articles, an issue highlighted by events like the American elections, where misinformation can heavily influence public sentiment.\n",
        "\n",
        "-\n",
        "\n",
        "**Why is This Problem Important?**\n",
        "\n",
        "Detecting fake news is both a timely and complex challenge. This project is intellectually engaging as it leverages NLP for a socially relevant task while remaining manageable within a binary classification framework.\n",
        "\n",
        "-\n",
        "\n",
        "**Expected Outcomes of the Model**\n",
        "\n",
        "Our objective is to develop a model with an F1-score of at least 0.85, balancing precision and recall to effectively minimize misclassifications. This metric underscores the model’s aim to accurately identify fake news while reducing errors, aligning with the critical nature of the task."
      ],
      "metadata": {
        "id": "1qdoWsh5Gcm_"
      }
    },
    {
      "cell_type": "markdown",
      "source": [
        "# **2. Methods**"
      ],
      "metadata": {
        "id": "h9-9AV2bF2Qt"
      }
    },
    {
      "cell_type": "markdown",
      "source": [
        "## **2.1 Import dataset from Kaggle**"
      ],
      "metadata": {
        "id": "OpBTd7CgGohy"
      }
    },
    {
      "cell_type": "markdown",
      "source": [
        "We decided to use the \"Fake News Detection\" datataset ([Link to the dataset](https://www.kaggle.com/datasets/bhavikjikadara/fake-news-detection))"
      ],
      "metadata": {
        "id": "0_B3oRgrHRSY"
      }
    },
    {
      "cell_type": "markdown",
      "source": [
        "First we download our personal kaggle API key on our computer. Then we add it the the google colab files :"
      ],
      "metadata": {
        "id": "AGwjeuZPCKil"
      }
    },
    {
      "cell_type": "code",
      "source": [
        "from google.colab import files\n",
        "uploaded = files.upload()\n",
        "del uploaded"
      ],
      "metadata": {
        "colab": {
          "base_uri": "https://localhost:8080/",
          "height": 73
        },
        "id": "wrUiM_5bGdzj",
        "outputId": "0f8dad03-ecf2-45b0-b2c8-afa91b321d7c"
      },
      "execution_count": 32,
      "outputs": [
        {
          "output_type": "display_data",
          "data": {
            "text/plain": [
              "<IPython.core.display.HTML object>"
            ],
            "text/html": [
              "\n",
              "     <input type=\"file\" id=\"files-45ee2e2b-08ed-4e8c-84ae-27cae10afa1b\" name=\"files[]\" multiple disabled\n",
              "        style=\"border:none\" />\n",
              "     <output id=\"result-45ee2e2b-08ed-4e8c-84ae-27cae10afa1b\">\n",
              "      Upload widget is only available when the cell has been executed in the\n",
              "      current browser session. Please rerun this cell to enable.\n",
              "      </output>\n",
              "      <script>// Copyright 2017 Google LLC\n",
              "//\n",
              "// Licensed under the Apache License, Version 2.0 (the \"License\");\n",
              "// you may not use this file except in compliance with the License.\n",
              "// You may obtain a copy of the License at\n",
              "//\n",
              "//      http://www.apache.org/licenses/LICENSE-2.0\n",
              "//\n",
              "// Unless required by applicable law or agreed to in writing, software\n",
              "// distributed under the License is distributed on an \"AS IS\" BASIS,\n",
              "// WITHOUT WARRANTIES OR CONDITIONS OF ANY KIND, either express or implied.\n",
              "// See the License for the specific language governing permissions and\n",
              "// limitations under the License.\n",
              "\n",
              "/**\n",
              " * @fileoverview Helpers for google.colab Python module.\n",
              " */\n",
              "(function(scope) {\n",
              "function span(text, styleAttributes = {}) {\n",
              "  const element = document.createElement('span');\n",
              "  element.textContent = text;\n",
              "  for (const key of Object.keys(styleAttributes)) {\n",
              "    element.style[key] = styleAttributes[key];\n",
              "  }\n",
              "  return element;\n",
              "}\n",
              "\n",
              "// Max number of bytes which will be uploaded at a time.\n",
              "const MAX_PAYLOAD_SIZE = 100 * 1024;\n",
              "\n",
              "function _uploadFiles(inputId, outputId) {\n",
              "  const steps = uploadFilesStep(inputId, outputId);\n",
              "  const outputElement = document.getElementById(outputId);\n",
              "  // Cache steps on the outputElement to make it available for the next call\n",
              "  // to uploadFilesContinue from Python.\n",
              "  outputElement.steps = steps;\n",
              "\n",
              "  return _uploadFilesContinue(outputId);\n",
              "}\n",
              "\n",
              "// This is roughly an async generator (not supported in the browser yet),\n",
              "// where there are multiple asynchronous steps and the Python side is going\n",
              "// to poll for completion of each step.\n",
              "// This uses a Promise to block the python side on completion of each step,\n",
              "// then passes the result of the previous step as the input to the next step.\n",
              "function _uploadFilesContinue(outputId) {\n",
              "  const outputElement = document.getElementById(outputId);\n",
              "  const steps = outputElement.steps;\n",
              "\n",
              "  const next = steps.next(outputElement.lastPromiseValue);\n",
              "  return Promise.resolve(next.value.promise).then((value) => {\n",
              "    // Cache the last promise value to make it available to the next\n",
              "    // step of the generator.\n",
              "    outputElement.lastPromiseValue = value;\n",
              "    return next.value.response;\n",
              "  });\n",
              "}\n",
              "\n",
              "/**\n",
              " * Generator function which is called between each async step of the upload\n",
              " * process.\n",
              " * @param {string} inputId Element ID of the input file picker element.\n",
              " * @param {string} outputId Element ID of the output display.\n",
              " * @return {!Iterable<!Object>} Iterable of next steps.\n",
              " */\n",
              "function* uploadFilesStep(inputId, outputId) {\n",
              "  const inputElement = document.getElementById(inputId);\n",
              "  inputElement.disabled = false;\n",
              "\n",
              "  const outputElement = document.getElementById(outputId);\n",
              "  outputElement.innerHTML = '';\n",
              "\n",
              "  const pickedPromise = new Promise((resolve) => {\n",
              "    inputElement.addEventListener('change', (e) => {\n",
              "      resolve(e.target.files);\n",
              "    });\n",
              "  });\n",
              "\n",
              "  const cancel = document.createElement('button');\n",
              "  inputElement.parentElement.appendChild(cancel);\n",
              "  cancel.textContent = 'Cancel upload';\n",
              "  const cancelPromise = new Promise((resolve) => {\n",
              "    cancel.onclick = () => {\n",
              "      resolve(null);\n",
              "    };\n",
              "  });\n",
              "\n",
              "  // Wait for the user to pick the files.\n",
              "  const files = yield {\n",
              "    promise: Promise.race([pickedPromise, cancelPromise]),\n",
              "    response: {\n",
              "      action: 'starting',\n",
              "    }\n",
              "  };\n",
              "\n",
              "  cancel.remove();\n",
              "\n",
              "  // Disable the input element since further picks are not allowed.\n",
              "  inputElement.disabled = true;\n",
              "\n",
              "  if (!files) {\n",
              "    return {\n",
              "      response: {\n",
              "        action: 'complete',\n",
              "      }\n",
              "    };\n",
              "  }\n",
              "\n",
              "  for (const file of files) {\n",
              "    const li = document.createElement('li');\n",
              "    li.append(span(file.name, {fontWeight: 'bold'}));\n",
              "    li.append(span(\n",
              "        `(${file.type || 'n/a'}) - ${file.size} bytes, ` +\n",
              "        `last modified: ${\n",
              "            file.lastModifiedDate ? file.lastModifiedDate.toLocaleDateString() :\n",
              "                                    'n/a'} - `));\n",
              "    const percent = span('0% done');\n",
              "    li.appendChild(percent);\n",
              "\n",
              "    outputElement.appendChild(li);\n",
              "\n",
              "    const fileDataPromise = new Promise((resolve) => {\n",
              "      const reader = new FileReader();\n",
              "      reader.onload = (e) => {\n",
              "        resolve(e.target.result);\n",
              "      };\n",
              "      reader.readAsArrayBuffer(file);\n",
              "    });\n",
              "    // Wait for the data to be ready.\n",
              "    let fileData = yield {\n",
              "      promise: fileDataPromise,\n",
              "      response: {\n",
              "        action: 'continue',\n",
              "      }\n",
              "    };\n",
              "\n",
              "    // Use a chunked sending to avoid message size limits. See b/62115660.\n",
              "    let position = 0;\n",
              "    do {\n",
              "      const length = Math.min(fileData.byteLength - position, MAX_PAYLOAD_SIZE);\n",
              "      const chunk = new Uint8Array(fileData, position, length);\n",
              "      position += length;\n",
              "\n",
              "      const base64 = btoa(String.fromCharCode.apply(null, chunk));\n",
              "      yield {\n",
              "        response: {\n",
              "          action: 'append',\n",
              "          file: file.name,\n",
              "          data: base64,\n",
              "        },\n",
              "      };\n",
              "\n",
              "      let percentDone = fileData.byteLength === 0 ?\n",
              "          100 :\n",
              "          Math.round((position / fileData.byteLength) * 100);\n",
              "      percent.textContent = `${percentDone}% done`;\n",
              "\n",
              "    } while (position < fileData.byteLength);\n",
              "  }\n",
              "\n",
              "  // All done.\n",
              "  yield {\n",
              "    response: {\n",
              "      action: 'complete',\n",
              "    }\n",
              "  };\n",
              "}\n",
              "\n",
              "scope.google = scope.google || {};\n",
              "scope.google.colab = scope.google.colab || {};\n",
              "scope.google.colab._files = {\n",
              "  _uploadFiles,\n",
              "  _uploadFilesContinue,\n",
              "};\n",
              "})(self);\n",
              "</script> "
            ]
          },
          "metadata": {}
        },
        {
          "output_type": "stream",
          "name": "stdout",
          "text": [
            "Saving kaggle.json to kaggle (2).json\n"
          ]
        }
      ]
    },
    {
      "cell_type": "markdown",
      "source": [
        "We then create a kaggle folder and copy kaggle.json to the folder created and give permission for the json to act"
      ],
      "metadata": {
        "id": "rXtTzFayJ7kl"
      }
    },
    {
      "cell_type": "code",
      "source": [
        "#create folder\n",
        "!mkdir ~/.kaggle\n",
        "\n",
        "#copy kaggle.json to folder\n",
        "!cp kaggle.json ~/.kaggle/\n",
        "\n",
        "#permission\n",
        "! chmod 600 ~/.kaggle/kaggle.json"
      ],
      "metadata": {
        "id": "Km6a_Cp5KEO7",
        "colab": {
          "base_uri": "https://localhost:8080/"
        },
        "outputId": "81b9149c-2bc9-494b-c8af-9c5f424a7203"
      },
      "execution_count": 33,
      "outputs": [
        {
          "output_type": "stream",
          "name": "stdout",
          "text": [
            "mkdir: cannot create directory ‘/root/.kaggle’: File exists\n",
            "cp: -r not specified; omitting directory 'kaggle.json'\n"
          ]
        }
      ]
    },
    {
      "cell_type": "markdown",
      "source": [
        "We then paste to code given when we click on the download button for the dataset on the kaggle website"
      ],
      "metadata": {
        "id": "VybVhUGcMfEw"
      }
    },
    {
      "cell_type": "code",
      "source": [
        "import kagglehub\n",
        "\n",
        "# Download latest version\n",
        "path = kagglehub.dataset_download(\"bhavikjikadara/fake-news-detection\")\n",
        "\n",
        "print(\"Path to dataset files:\", path)"
      ],
      "metadata": {
        "colab": {
          "base_uri": "https://localhost:8080/"
        },
        "collapsed": true,
        "id": "gU3iwmkZLv4M",
        "outputId": "7ad600e9-13f8-4ad9-adc3-03b436b6d4fe"
      },
      "execution_count": 34,
      "outputs": [
        {
          "output_type": "stream",
          "name": "stdout",
          "text": [
            "Path to dataset files: /root/.cache/kagglehub/datasets/bhavikjikadara/fake-news-detection/versions/1\n"
          ]
        }
      ]
    },
    {
      "cell_type": "markdown",
      "source": [
        "Then change directory to be in the file with the two files"
      ],
      "metadata": {
        "id": "QSxyPjBhOzF9"
      }
    },
    {
      "cell_type": "code",
      "source": [
        "cd /root/.cache/kagglehub/datasets/bhavikjikadara/fake-news-detection/versions/1"
      ],
      "metadata": {
        "colab": {
          "base_uri": "https://localhost:8080/"
        },
        "id": "l1RjBBXhN8Sf",
        "outputId": "ba50a0dd-5df7-4864-95f0-af4551642b25"
      },
      "execution_count": 35,
      "outputs": [
        {
          "output_type": "stream",
          "name": "stdout",
          "text": [
            "/root/.cache/kagglehub/datasets/bhavikjikadara/fake-news-detection/versions/1\n"
          ]
        }
      ]
    },
    {
      "cell_type": "markdown",
      "source": [
        "##**2.2 Dataset Description**"
      ],
      "metadata": {
        "id": "OKZihICL_FGY"
      }
    },
    {
      "cell_type": "markdown",
      "source": [
        "Description of the dataset"
      ],
      "metadata": {
        "id": "_rToystV_Rs2"
      }
    },
    {
      "cell_type": "markdown",
      "source": [
        "## **2.3 Data Preprocessing**"
      ],
      "metadata": {
        "id": "STLkTp2ITA4s"
      }
    },
    {
      "cell_type": "code",
      "source": [
        "import pandas as pd\n",
        "import numpy as np\n",
        "import seaborn as sns\n",
        "import matplotlib.pyplot as plt\n",
        "\n",
        "true_df = pd.read_csv('true.csv')\n",
        "fake_df = pd.read_csv('fake.csv')"
      ],
      "metadata": {
        "collapsed": true,
        "id": "oKztIo5iTlU9"
      },
      "execution_count": 59,
      "outputs": []
    },
    {
      "cell_type": "markdown",
      "source": [
        "### **2.3.1 Data correction**"
      ],
      "metadata": {
        "id": "NAC5dSaYQVlv"
      }
    },
    {
      "cell_type": "markdown",
      "source": [
        "Some dates from fake.csv contain month that are written with three letters (ex : Nov, Jan, etc.). So we correct it and convert dates to Date variables."
      ],
      "metadata": {
        "id": "JAG-Qa_zhfo4"
      }
    },
    {
      "cell_type": "code",
      "source": [
        "# Replacing abbreviation to have a uniform format for dates\n",
        "mois = {\n",
        "    'Jan ': 'January ',\n",
        "    'Feb ': 'February ',\n",
        "    'Mar ': 'March ',\n",
        "    'Apr ': 'April ',\n",
        "    'May ': 'May ',\n",
        "    'Jun ': 'June ',\n",
        "    'Jul ': 'July ',\n",
        "    'Aug ': 'August ',\n",
        "    'Sep ': 'September ',\n",
        "    'Oct ': 'October ',\n",
        "    'Nov ': 'November ',\n",
        "    'Dec ': 'December '\n",
        "}\n",
        "fake_df['date'] = fake_df['date'].replace(mois, regex=True)"
      ],
      "metadata": {
        "id": "jMtS9i62q3h6"
      },
      "execution_count": 60,
      "outputs": []
    },
    {
      "cell_type": "code",
      "source": [
        "# Converting dates to Date variables\n",
        "true_df['date'] = pd.to_datetime(true_df['date'], errors='coerce')\n",
        "fake_df['date'] = pd.to_datetime(fake_df['date'], errors='coerce')"
      ],
      "metadata": {
        "id": "s-EudKmhsHtA"
      },
      "execution_count": 61,
      "outputs": []
    },
    {
      "cell_type": "markdown",
      "source": [
        "We can see that true_df text column contains \"(Reuters) - \" that can cause overfitting. So we have to delete it."
      ],
      "metadata": {
        "id": "qR6CEPtzaFrg"
      }
    },
    {
      "cell_type": "code",
      "source": [
        "# Delete all text until \"(Reuters) - \" in true_df\n",
        "true_df['text'] = true_df['text'].str.replace(r'^.*\\(Reuters\\) - ', '', regex=True)"
      ],
      "metadata": {
        "id": "Aofj8SuDZvHK"
      },
      "execution_count": 62,
      "outputs": []
    },
    {
      "cell_type": "markdown",
      "source": [
        "After conversion and replacement of the abbreviation, we find 45 null values in fake_df. 45 is a low number so we will just erase them.\n",
        "\n",
        "We also erase duplicates"
      ],
      "metadata": {
        "id": "w47GGUAJt6nh"
      }
    },
    {
      "cell_type": "code",
      "source": [
        "# Erase null values in fake_df\n",
        "fake_df.dropna(inplace=True)\n",
        "\n",
        "# Erase duplicates\n",
        "true_df.drop_duplicates(keep='first', inplace=True)\n",
        "fake_df.drop_duplicates(keep='first', inplace=True)"
      ],
      "metadata": {
        "id": "2TfRqs8QuPNn"
      },
      "execution_count": 63,
      "outputs": []
    },
    {
      "cell_type": "markdown",
      "source": [
        "### **2.3.2 Data cleaning**"
      ],
      "metadata": {
        "id": "T5A4VV_XiYEs"
      }
    },
    {
      "cell_type": "markdown",
      "source": [
        "Before cleaning the data, we decide to add a new column that counts the percentage of uppercase letters in the title. It seems to be a very relevant feature but we will remove it if the performance of the model without it is similar."
      ],
      "metadata": {
        "id": "HF3HOME1ptWp"
      }
    },
    {
      "cell_type": "code",
      "source": [
        "# Function to calculate the percentage of uppercase letters\n",
        "def calculate_uppercase_percentage(text):\n",
        "    if len(text) == 0:  # Avoid division by zero\n",
        "        return 0\n",
        "    uppercase_count = sum(1 for char in text if char.isupper())\n",
        "    return (uppercase_count / len(text))*100\n",
        "\n",
        "# Add the column with the calculated percentages\n",
        "true_df['uppercase_percentage'] = true_df['title'].apply(calculate_uppercase_percentage)\n",
        "fake_df['uppercase_percentage'] = fake_df['title'].apply(calculate_uppercase_percentage)"
      ],
      "metadata": {
        "id": "UsCaSwpUwmqg"
      },
      "execution_count": 64,
      "outputs": []
    },
    {
      "cell_type": "markdown",
      "source": [
        "For simplicity of the model and because we will tokenize word by word, we will choose to remove all the punctuation and the special characters."
      ],
      "metadata": {
        "id": "2Tve8JdNQnr8"
      }
    },
    {
      "cell_type": "code",
      "source": [
        "import re\n",
        "\n",
        "# Remove special characters\n",
        "true_df['title'] = true_df['title'].str.replace(r'[^a-zA-Z0-9\\s]', '', regex=True)\n",
        "true_df['text'] = true_df['text'].str.replace(r'[^a-zA-Z0-9\\s]', '', regex=True)\n",
        "\n",
        "fake_df['title'] = fake_df['title'].str.replace(r'[^a-zA-Z0-9\\s]', '', regex=True)\n",
        "fake_df['text'] = fake_df['text'].str.replace(r'[^a-zA-Z0-9\\s]', '', regex=True)"
      ],
      "metadata": {
        "id": "AixCfru8psa2"
      },
      "execution_count": 65,
      "outputs": []
    },
    {
      "cell_type": "markdown",
      "source": [
        "We then remove the uppercase letters and extra spaces"
      ],
      "metadata": {
        "id": "viDGxkohReG8"
      }
    },
    {
      "cell_type": "code",
      "source": [
        "# Convert all to lowercase\n",
        "true_df['title'] = true_df['title'].str.lower()\n",
        "true_df['text'] = true_df['text'].str.lower()\n",
        "fake_df['title'] = fake_df['title'].str.lower()\n",
        "fake_df['text'] = fake_df['text'].str.lower()\n",
        "\n",
        "# Remove extra spaces\n",
        "true_df['title'] = true_df['title'].str.strip().str.replace(r'\\s+', ' ', regex=True)\n",
        "true_df['text'] = true_df['text'].str.strip().str.replace(r'\\s+', ' ', regex=True)\n",
        "fake_df['title'] = fake_df['title'].str.strip().str.replace(r'\\s+', ' ', regex=True)\n",
        "fake_df['text'] = fake_df['text'].str.strip().str.replace(r'\\s+', ' ', regex=True)"
      ],
      "metadata": {
        "id": "yFgWLYEDRw9w"
      },
      "execution_count": 66,
      "outputs": []
    },
    {
      "cell_type": "markdown",
      "source": [
        "###**2.3.3 The subject column**"
      ],
      "metadata": {
        "id": "E33V4bKUdVnR"
      }
    },
    {
      "cell_type": "markdown",
      "source": [
        "The subject column is problematic because the true and fake news have different categories."
      ],
      "metadata": {
        "id": "My7Ee_5fdhEK"
      }
    },
    {
      "cell_type": "code",
      "source": [
        "# List all unique subjects\n",
        "print(true_df['subject'].unique())\n",
        "print()\n",
        "print(fake_df['subject'].unique())"
      ],
      "metadata": {
        "colab": {
          "base_uri": "https://localhost:8080/"
        },
        "id": "bRTL5hc8VIMk",
        "outputId": "48a929ed-6aa5-461b-a13c-13857739d036"
      },
      "execution_count": 67,
      "outputs": [
        {
          "output_type": "stream",
          "name": "stdout",
          "text": [
            "['politicsNews' 'worldnews']\n",
            "\n",
            "['News' 'politics' 'Government News' 'left-news' 'US_News' 'Middle-east']\n"
          ]
        }
      ]
    },
    {
      "cell_type": "code",
      "source": [
        "true_df['label'] = 1  # 1 for true news\n",
        "fake_df['label'] = 0  # 0 for fake news"
      ],
      "metadata": {
        "id": "XawNhogycrvm"
      },
      "execution_count": 68,
      "outputs": []
    },
    {
      "cell_type": "markdown",
      "source": [
        "We can try to normalize the subject"
      ],
      "metadata": {
        "id": "bGWoTbEFd90o"
      }
    },
    {
      "cell_type": "code",
      "source": [
        "subject_mapping = {\n",
        "    'News': 'General News',\n",
        "    'US_News': 'General News',\n",
        "    'worldnews': 'General News',\n",
        "    'politics': 'Politics',\n",
        "    'politicsNews': 'Politics',\n",
        "    'left-news': 'Politics',\n",
        "    'Middle-east': 'General News',\n",
        "    'Government News': 'Politics'\n",
        "}\n",
        "fake_df['subject'] = fake_df['subject'].map(subject_mapping)\n",
        "true_df['subject'] = true_df['subject'].map(subject_mapping)\n"
      ],
      "metadata": {
        "id": "k_gFW6mhdFoI"
      },
      "execution_count": 69,
      "outputs": []
    },
    {
      "cell_type": "code",
      "source": [
        "combined_df = pd.concat([true_df, fake_df], ignore_index=True)"
      ],
      "metadata": {
        "id": "bg7JJiRCcuNk"
      },
      "execution_count": 70,
      "outputs": []
    },
    {
      "cell_type": "code",
      "source": [
        "import seaborn as sns\n",
        "import matplotlib.pyplot as plt\n",
        "\n",
        "# Plot subject distribution\n",
        "sns.countplot(x='subject', hue='label', data=combined_df)\n",
        "plt.xticks(rotation=45)\n",
        "plt.title(\"Distribution of Subjects by Label\")\n",
        "plt.show()\n"
      ],
      "metadata": {
        "colab": {
          "base_uri": "https://localhost:8080/",
          "height": 536
        },
        "id": "3DBtiAjyczZk",
        "outputId": "76f5e721-f7f5-4914-d362-3a2a84505760"
      },
      "execution_count": 71,
      "outputs": [
        {
          "output_type": "display_data",
          "data": {
            "text/plain": [
              "<Figure size 640x480 with 1 Axes>"
            ],
            "image/png": "[encoded data removed]"
          },
          "metadata": {}
        }
      ]
    },
    {
      "cell_type": "markdown",
      "source": [
        "As we can see, there is no real difference between the subjects for true or fake news. We can conclude that subject is not a meaningful predictor for our task. So to avoid noise, we will delete the 'subject' column and delete combined_df"
      ],
      "metadata": {
        "id": "Np7xti4-e_2m"
      }
    },
    {
      "cell_type": "code",
      "source": [
        "fake_df = fake_df.drop(columns=['subject'])\n",
        "true_df = true_df.drop(columns=['subject'])\n",
        "fake_df = fake_df.drop(columns=['label'])\n",
        "true_df = true_df.drop(columns=['label'])\n",
        "del combined_df"
      ],
      "metadata": {
        "id": "v_DpkhxAgOw5"
      },
      "execution_count": 72,
      "outputs": []
    },
    {
      "cell_type": "markdown",
      "source": [
        "### **2.3.4 Fusing datasets**"
      ],
      "metadata": {
        "id": "uB4ONXAbikrM"
      }
    },
    {
      "cell_type": "markdown",
      "source": [
        "We add labels before combining to two datasets into one."
      ],
      "metadata": {
        "id": "GqPnf7selIwB"
      }
    },
    {
      "cell_type": "code",
      "source": [
        "true_df['label'] = 1  # 1 for true news\n",
        "fake_df['label'] = 0  # 0 for fake news\n",
        "\n",
        "df = pd.concat([true_df, fake_df], ignore_index=True)\n",
        "print(df.head())"
      ],
      "metadata": {
        "colab": {
          "base_uri": "https://localhost:8080/"
        },
        "id": "P-PsSTdNkvx1",
        "outputId": "36c400c3-ad6a-4c52-88b2-eae98823bfe9"
      },
      "execution_count": 73,
      "outputs": [
        {
          "output_type": "stream",
          "name": "stdout",
          "text": [
            "                                               title  \\\n",
            "0  as us budget fight looms republicans flip thei...   \n",
            "1  us military to accept transgender recruits on ...   \n",
            "2  senior us republican senator let mr mueller do...   \n",
            "3  fbi russia probe helped by australian diplomat...   \n",
            "4  trump wants postal service to charge much more...   \n",
            "\n",
            "                                                text       date  \\\n",
            "0  the head of a conservative republican faction ... 2017-12-31   \n",
            "1  transgender people will be allowed for the fir... 2017-12-29   \n",
            "2  the special counsel investigation of links bet... 2017-12-31   \n",
            "3  trump campaign adviser george papadopoulos tol... 2017-12-30   \n",
            "4  president donald trump called on the us postal... 2017-12-29   \n",
            "\n",
            "   uppercase_percentage  label  \n",
            "0              6.250000      1  \n",
            "1              6.250000      1  \n",
            "2             11.666667      1  \n",
            "3             13.559322      1  \n",
            "4              5.797101      1  \n"
          ]
        }
      ]
    },
    {
      "cell_type": "markdown",
      "source": [
        "## **2.4 Exploratory Data Analysis (EDA)**"
      ],
      "metadata": {
        "id": "6j8IU0Gj-fuE"
      }
    },
    {
      "cell_type": "code",
      "source": [
        "# Visualize a sample of the dataset\n",
        "print(df.sample(10))"
      ],
      "metadata": {
        "colab": {
          "base_uri": "https://localhost:8080/"
        },
        "collapsed": true,
        "id": "NWs4rMHbXrNs",
        "outputId": "18c5e4e2-d61e-4b2c-8cc6-856884ee7e90"
      },
      "execution_count": 74,
      "outputs": [
        {
          "output_type": "stream",
          "name": "stdout",
          "text": [
            "                                                   title  \\\n",
            "26818  responsible gun owner tries to 2nd amendment a...   \n",
            "29383  this woman was body shamed by her boss and her...   \n",
            "481    trump was wrong to retweet uk farright group b...   \n",
            "19557  mexican leftist obrador leads ahead of 2018 el...   \n",
            "21930  trump admin deals stunning threat to alaska ov...   \n",
            "9191   kerry says all should celebrate clinton win re...   \n",
            "35123  admiral james ace lyons warns what the joint c...   \n",
            "18625  zimbabwes mugabe likens rivals to judas for se...   \n",
            "24378  naacp members arrested for protesting trumps r...   \n",
            "3664   trump nominates callista gingrich as ambassado...   \n",
            "\n",
            "                                                    text       date  \\\n",
            "26818  okay we all probably get it independence day w... 2016-07-04   \n",
            "29383  oklahoma state university student sherene zarr... 2016-02-12   \n",
            "481    us president donald trump was wrong to have po... 2017-11-29   \n",
            "19557  mexican leftist andres manuel lopez obrador wh... 2017-09-18   \n",
            "21930  the trump administration along with congress m... 2017-07-28   \n",
            "9191   hillary clintons victory in the democratic pre... 2016-06-08   \n",
            "35123  admiral ace lyons has warned us all before in ... 2016-05-09   \n",
            "18625  zimbabwean president robert mugabe on thursday... 2017-09-28   \n",
            "24378  the naacp staged a sitin at the office of alab... 2017-01-04   \n",
            "3664   president donald trump plans to nominate calli... 2017-05-19   \n",
            "\n",
            "       uppercase_percentage  label  \n",
            "26818             19.736842      0  \n",
            "29383             32.467532      0  \n",
            "481                9.589041      1  \n",
            "19557              3.448276      1  \n",
            "21930             26.966292      0  \n",
            "9191               3.125000      1  \n",
            "35123             35.514019      0  \n",
            "18625              4.477612      1  \n",
            "24378             22.891566      0  \n",
            "3664               6.896552      1  \n"
          ]
        }
      ]
    },
    {
      "cell_type": "code",
      "source": [
        "# Statistics\n",
        "print(true_df.describe())\n",
        "print()\n",
        "print(fake_df.describe())"
      ],
      "metadata": {
        "colab": {
          "base_uri": "https://localhost:8080/"
        },
        "id": "DbPSvsfMhIkr",
        "outputId": "70a8162e-8467-4ab9-c486-60b935909f07",
        "collapsed": true
      },
      "execution_count": 75,
      "outputs": [
        {
          "output_type": "stream",
          "name": "stdout",
          "text": [
            "                                date  uppercase_percentage    label\n",
            "count                          21211          21211.000000  21211.0\n",
            "mean   2017-06-02 21:00:01.527509248              5.529878      1.0\n",
            "min              2016-01-13 00:00:00              1.052632      1.0\n",
            "25%              2017-01-27 00:00:00              3.448276      1.0\n",
            "50%              2017-09-12 00:00:00              5.084746      1.0\n",
            "75%              2017-11-02 00:00:00              7.017544      1.0\n",
            "max              2017-12-31 00:00:00             26.415094      1.0\n",
            "std                              NaN              2.771910      0.0\n",
            "\n",
            "                                date  uppercase_percentage    label\n",
            "count                          23433          23433.000000  23433.0\n",
            "mean   2016-10-07 05:42:54.062220032             29.513559      0.0\n",
            "min              2015-03-31 00:00:00              3.370787      0.0\n",
            "25%              2016-04-06 00:00:00             19.827586      0.0\n",
            "50%              2016-10-14 00:00:00             26.562500      0.0\n",
            "75%              2017-04-14 00:00:00             35.172414      0.0\n",
            "max              2017-12-31 00:00:00             89.583333      0.0\n",
            "std                              NaN             14.044285      0.0\n"
          ]
        }
      ]
    },
    {
      "cell_type": "markdown",
      "source": [
        "The number of true and false articles is pretty even (47,7% - 52,3%), it's good for a binary classification."
      ],
      "metadata": {
        "id": "PUchOM_tG39V"
      }
    },
    {
      "cell_type": "code",
      "source": [
        "# Analyse the length of\n",
        "print(true_df['title'].apply(len).describe())\n",
        "print()\n",
        "print(fake_df['title'].apply(len).describe())\n",
        "print()\n",
        "print()\n",
        "print(true_df['text'].apply(len).describe())\n",
        "print()\n",
        "print(fake_df['text'].apply(len).describe())"
      ],
      "metadata": {
        "colab": {
          "base_uri": "https://localhost:8080/"
        },
        "id": "nZEdg8qRLlot",
        "outputId": "3d437850-e054-4e1a-f0a5-757bdba6e049"
      },
      "execution_count": 76,
      "outputs": [
        {
          "output_type": "stream",
          "name": "stdout",
          "text": [
            "count    21211.000000\n",
            "mean        63.047758\n",
            "std          8.914457\n",
            "min         26.000000\n",
            "25%         57.000000\n",
            "50%         63.000000\n",
            "75%         68.000000\n",
            "max        129.000000\n",
            "Name: title, dtype: float64\n",
            "\n",
            "count    23433.000000\n",
            "mean        90.372594\n",
            "std         26.258412\n",
            "min         14.000000\n",
            "25%         74.000000\n",
            "50%         86.000000\n",
            "75%        101.000000\n",
            "max        270.000000\n",
            "Name: title, dtype: float64\n",
            "\n",
            "\n",
            "count    21211.000000\n",
            "mean      2289.820895\n",
            "std       1634.095158\n",
            "min          0.000000\n",
            "25%        860.000000\n",
            "50%       2135.000000\n",
            "75%       3115.000000\n",
            "max      28951.000000\n",
            "Name: text, dtype: float64\n",
            "\n",
            "count    23433.000000\n",
            "mean      2477.164426\n",
            "std       2462.606631\n",
            "min          0.000000\n",
            "25%       1393.000000\n",
            "50%       2106.000000\n",
            "75%       2945.000000\n",
            "max      50477.000000\n",
            "Name: text, dtype: float64\n"
          ]
        }
      ]
    },
    {
      "cell_type": "code",
      "source": [
        "empty_text_df = df[df['text'].str.len() == 0]\n",
        "empty_text_count = df[df['text'].str.len() == 0].shape[0]\n",
        "print(empty_text_count)"
      ],
      "metadata": {
        "id": "0POtoENHMA0c",
        "colab": {
          "base_uri": "https://localhost:8080/"
        },
        "outputId": "e29aceb2-5834-4e6f-bff8-4638893ac28f"
      },
      "execution_count": 77,
      "outputs": [
        {
          "output_type": "stream",
          "name": "stdout",
          "text": [
            "631\n"
          ]
        }
      ]
    }
  ]
}